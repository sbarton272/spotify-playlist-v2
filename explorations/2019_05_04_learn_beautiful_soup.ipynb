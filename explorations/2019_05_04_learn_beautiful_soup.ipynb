{
 "cells": [
  {
   "cell_type": "markdown",
   "metadata": {},
   "source": [
    "# Beautiful Soup"
   ]
  },
  {
   "cell_type": "code",
   "execution_count": 1,
   "metadata": {},
   "outputs": [],
   "source": [
    "from bs4 import BeautifulSoup\n",
    "import requests"
   ]
  },
  {
   "cell_type": "code",
   "execution_count": 2,
   "metadata": {},
   "outputs": [],
   "source": [
    "SOURCE_URL = \"https://www.thenewparish.com/calendar/\""
   ]
  },
  {
   "cell_type": "code",
   "execution_count": 3,
   "metadata": {},
   "outputs": [
    {
     "data": {
      "text/plain": [
       "<Response [200]>"
      ]
     },
     "execution_count": 3,
     "metadata": {},
     "output_type": "execute_result"
    }
   ],
   "source": [
    "page_html = requests.get(SOURCE_URL)\n",
    "page_html"
   ]
  },
  {
   "cell_type": "code",
   "execution_count": 4,
   "metadata": {},
   "outputs": [
    {
     "data": {
      "text/plain": [
       "<title> Calendar  | The New Parish</title>"
      ]
     },
     "execution_count": 4,
     "metadata": {},
     "output_type": "execute_result"
    }
   ],
   "source": [
    "soup = BeautifulSoup(page_html.text, \"lxml\")\n",
    "soup.title"
   ]
  },
  {
   "cell_type": "code",
   "execution_count": 5,
   "metadata": {},
   "outputs": [
    {
     "name": "stdout",
     "output_type": "stream",
     "text": [
      "defaultdict(<class 'list'>,\n",
      "            {datetime.date(2019, 5, 9): [Event(artists=['Georgia Anne Muldrow', 'Jennifer Johns'], status='Tickets')],\n",
      "             datetime.date(2019, 5, 10): [Event(artists=['ST. LUCIA - INTIMATE & ACOUSTIC', 'AIRPARK'], status='Sold Out')],\n",
      "             datetime.date(2019, 5, 11): [Event(artists=['Mortified'], status='Tickets'),\n",
      "                                          Event(artists=['Reggae Gold XL'], status='Tickets')],\n",
      "             datetime.date(2019, 5, 12): [Event(artists=['Y La Bamba', 'Rituals of Mine', 'Mahawam'], status='Tickets')],\n",
      "             datetime.date(2019, 5, 13): [Event(artists=['Wolfmother', 'The Soft White Sixties'], status='Sold Out')],\n",
      "             datetime.date(2019, 5, 14): [Event(artists=['Jake Miller', 'Logan Henderson', 'Just Seconds Apart'], status='Tickets')],\n",
      "             datetime.date(2019, 5, 15): [Event(artists=['Kyle Gass Band'], status='Tickets')],\n",
      "             datetime.date(2019, 5, 16): [Event(artists=['The Unlikely Candidates & Irontom', 'EagleWolfSnake'], status='Tickets')],\n",
      "             datetime.date(2019, 5, 17): [Event(artists=['Ari Lennox', 'Baby Rose', 'Mikhala Jene', 'Ron Gilmore'], status='Sold Out')],\n",
      "             datetime.date(2019, 5, 18): [Event(artists=['Monophonics', 'Same Girls'], status='Tickets')],\n",
      "             datetime.date(2019, 5, 19): [Event(artists=['Akae Beka (Formerly of Midnite)'], status='Tickets')],\n",
      "             datetime.date(2019, 5, 22): [Event(artists=['Kirin J Callinan', 'Rinse & Repeat', 'Valerie Orth'], status='Tickets')],\n",
      "             datetime.date(2019, 5, 24): [Event(artists=['Knife Knights (feat. Ishmael Butler of Digable Planets)', 'Lando Chill'], status='Tickets')],\n",
      "             datetime.date(2019, 5, 25): [Event(artists=['The Delinquents'], status='Tickets'),\n",
      "                                          Event(artists=['thePeople'], status='Tickets')],\n",
      "             datetime.date(2019, 5, 26): [Event(artists=['Bun B'], status='Tickets')],\n",
      "             datetime.date(2019, 5, 29): [Event(artists=['Ana Tijoux', 'Locura', 'Santi Mostaffa'], status='Tickets')],\n",
      "             datetime.date(2019, 5, 31): [Event(artists=['Le1f'], status='Tickets')],\n",
      "             datetime.date(2019, 6, 2): [Event(artists=['Young M.A'], status='Tickets')],\n",
      "             datetime.date(2019, 6, 6): [Event(artists=['Alice Smith'], status='Tickets')],\n",
      "             datetime.date(2019, 6, 7): [Event(artists=['Kari Faux', 'DJ Osh Kosh'], status='Tickets')],\n",
      "             datetime.date(2019, 6, 8): [Event(artists=['Mortified'], status='Tickets')],\n",
      "             datetime.date(2019, 6, 13): [Event(artists=['Snow Tha Product'], status='Sold Out')],\n",
      "             datetime.date(2019, 6, 14): [Event(artists=['Kranium', 'Jada Kingdom'], status='Tickets')],\n",
      "             datetime.date(2019, 6, 15): [Event(artists=['SADE vs BADU - A Tribute Party to Bulletproof Soul'], status='Tickets')],\n",
      "             datetime.date(2019, 6, 19): [Event(artists=['YBN Cordae'], status='Tickets')],\n",
      "             datetime.date(2019, 6, 21): [Event(artists=['Branko (Live A/V Set)', 'FELA KUTCHii', '¡Sazon Libre!', 'and DJ Lady Z'], status='Tickets')],\n",
      "             datetime.date(2019, 6, 24): [Event(artists=['Charly Bliss'], status='Tickets')],\n",
      "             datetime.date(2019, 6, 26): [Event(artists=['Thundercat'], status='Tickets')],\n",
      "             datetime.date(2019, 6, 28): [Event(artists=['Shlohmo'], status='Tickets')],\n",
      "             datetime.date(2019, 6, 30): [Event(artists=['Jay Electronica'], status='Tickets')],\n",
      "             datetime.date(2019, 7, 5): [Event(artists=['Mikal Cronin', 'CFM', 'Sarah Bethe Nelson'], status='Tickets')],\n",
      "             datetime.date(2019, 7, 9): [Event(artists=['michael che x cipha | liberal but gangsta'], status='Tickets')],\n",
      "             datetime.date(2019, 7, 10): [Event(artists=['michael che x cipha | liberal but gangsta'], status='Tickets')],\n",
      "             datetime.date(2019, 7, 11): [Event(artists=['michael che x cipha | liberal but gangsta'], status='Tickets')],\n",
      "             datetime.date(2019, 7, 17): [Event(artists=['Mystic Braves'], status='Tickets')],\n",
      "             datetime.date(2019, 7, 30): [Event(artists=['Kinky', 'Barrio Manouche'], status='Tickets')],\n",
      "             datetime.date(2019, 7, 31): [Event(artists=['Ibibio Sound Machine'], status='Tickets')],\n",
      "             datetime.date(2019, 8, 13): [Event(artists=['Everything is Terrible!'], status='Tickets')],\n",
      "             datetime.date(2019, 8, 16): [Event(artists=['The Ghost Next Door'], status='Tickets')],\n",
      "             datetime.date(2019, 9, 17): [Event(artists=['Ex Hex'], status='On Sale Fri 1010:00 am PDT')],\n",
      "             datetime.date(2019, 10, 10): [Event(artists=['Ones To Watch Presents: flor'], status='Tickets')],\n",
      "             datetime.date(2019, 10, 11): [Event(artists=['Bleached'], status='Tickets')]})\n"
     ]
    }
   ],
   "source": [
    "from datetime import date\n",
    "from dateutil import parser\n",
    "from pprint import pprint\n",
    "from collections import namedtuple, defaultdict\n",
    "    \n",
    "Event = namedtuple('Event', ['artists', 'status'])\n",
    "events = defaultdict(list)\n",
    "    \n",
    "# Parse events\n",
    "date_cells = list(soup.find_all(\"td\", class_=\"has-event\"))\n",
    "for date_cell in date_cells:\n",
    "\n",
    "    # Extract date\n",
    "    date_text = date_cell.find_next(\"section\", {\"class\": \"dtstart\"}).find_next(\"span\")\n",
    "    date = parser.parse(date_text.attrs[\"title\"]).date()\n",
    "    \n",
    "    # Extract events\n",
    "    event_cells = date_cell.find_all(\"section\", {\"class\": \"one-event\"})\n",
    "    for event_cell in event_cells:\n",
    "        artist_text = event_cell.find_next(\"h1\", {\"class\": \"headliners\"}).find_next(\"a\").text\n",
    "        artists = [art.strip() for art in artist_text.split(\",\")]\n",
    "        status = event_cell.find_next(\"section\", {\"class\": \"ticket-price\"}).text.strip()\n",
    "            \n",
    "        events[date].append(Event(artists, status))\n",
    "\n",
    "pprint(events)"
   ]
  },
  {
   "cell_type": "markdown",
   "metadata": {},
   "source": [
    "# Spotify"
   ]
  },
  {
   "cell_type": "code",
   "execution_count": 6,
   "metadata": {},
   "outputs": [],
   "source": [
    "from pathlib import Path\n",
    "import hashlib\n",
    "\n",
    "# Auth\n",
    "# https://developer.spotify.com/documentation/general/guides/authorization-guide/\n",
    "\n",
    "client_id = Path(\"spotify_client_id.txt\").read()\n",
    "session_token = hashlib.sha256(client_id).hexdigest()\n",
    "\n",
    "requests.get(\"https://accounts.spotify.com/authorize\", params={\n",
    "    \"client_id\": client_id,\n",
    "    \"response_type\": \"code\",\n",
    "    \"redirect_uri\", \"http://localhost:8910/spotify_auth/\",\n",
    "    \"state\": \n",
    "})"
   ]
  },
  {
   "cell_type": "code",
   "execution_count": 7,
   "metadata": {},
   "outputs": [
    {
     "data": {
      "text/plain": [
       "<Response [401]>"
      ]
     },
     "execution_count": 7,
     "metadata": {},
     "output_type": "execute_result"
    }
   ],
   "source": [
    "requests.get(\"https://api.spotify.com/v1/me/playlists\")"
   ]
  },
  {
   "cell_type": "code",
   "execution_count": null,
   "metadata": {},
   "outputs": [],
   "source": []
  }
 ],
 "metadata": {
  "kernelspec": {
   "display_name": "Python 3",
   "language": "python",
   "name": "python3"
  },
  "language_info": {
   "codemirror_mode": {
    "name": "ipython",
    "version": 3
   },
   "file_extension": ".py",
   "mimetype": "text/x-python",
   "name": "python",
   "nbconvert_exporter": "python",
   "pygments_lexer": "ipython3",
   "version": "3.6.5"
  }
 },
 "nbformat": 4,
 "nbformat_minor": 2
}
