{
 "cells": [
  {
   "cell_type": "markdown",
   "metadata": {},
   "source": [
    "# Beautiful Soup"
   ]
  },
  {
   "cell_type": "code",
   "execution_count": 1,
   "metadata": {},
   "outputs": [],
   "source": [
    "from bs4 import BeautifulSoup\n",
    "import requests"
   ]
  },
  {
   "cell_type": "code",
   "execution_count": 72,
   "metadata": {},
   "outputs": [],
   "source": [
    "SOURCE_URL = \"https://www.thenewparish.com/calendar/\""
   ]
  },
  {
   "cell_type": "code",
   "execution_count": 73,
   "metadata": {},
   "outputs": [
    {
     "data": {
      "text/plain": [
       "<Response [200]>"
      ]
     },
     "execution_count": 73,
     "metadata": {},
     "output_type": "execute_result"
    }
   ],
   "source": [
    "page_html = requests.get(SOURCE_URL)\n",
    "page_html"
   ]
  },
  {
   "cell_type": "code",
   "execution_count": 74,
   "metadata": {},
   "outputs": [
    {
     "data": {
      "text/plain": [
       "<title> Calendar  | The New Parish</title>"
      ]
     },
     "execution_count": 74,
     "metadata": {},
     "output_type": "execute_result"
    }
   ],
   "source": [
    "soup = BeautifulSoup(page_html.text, \"html.parser\")\n",
    "soup.title"
   ]
  },
  {
   "cell_type": "code",
   "execution_count": 92,
   "metadata": {},
   "outputs": [
    {
     "name": "stdout",
     "output_type": "stream",
     "text": [
      "{datetime.date(2019, 5, 7): ['Trevor Daniel', 'Noah North', '916frosty'],\n",
      " datetime.date(2019, 5, 8): ['kLL sMTH', 'Bogtrotter', 'Mindex', 'VCTRE'],\n",
      " datetime.date(2019, 5, 9): ['Georgia Anne Muldrow'],\n",
      " datetime.date(2019, 5, 10): ['ST. LUCIA - INTIMATE & ACOUSTIC', 'AIRPARK'],\n",
      " datetime.date(2019, 5, 11): ['Mortified'],\n",
      " datetime.date(2019, 5, 12): ['Y La Bamba', 'Rituals of Mine', 'Mahawam'],\n",
      " datetime.date(2019, 5, 13): ['Wolfmother'],\n",
      " datetime.date(2019, 5, 14): ['Jake Miller',\n",
      "                              'Logan Henderson',\n",
      "                              'Just Seconds Apart'],\n",
      " datetime.date(2019, 5, 15): ['Kyle Gass Band'],\n",
      " datetime.date(2019, 5, 16): ['The Unlikely Candidates & Irontom'],\n",
      " datetime.date(2019, 5, 17): ['Ari Lennox',\n",
      "                              'Baby Rose',\n",
      "                              'Mikhala Jene',\n",
      "                              'Ron Gilmore'],\n",
      " datetime.date(2019, 5, 18): ['Monophonics', 'Same Girls'],\n",
      " datetime.date(2019, 5, 19): ['Akae Beka (Formerly of Midnite)'],\n",
      " datetime.date(2019, 5, 22): ['Kirin J Callinan',\n",
      "                              'Rinse & Repeat',\n",
      "                              'Valerie Orth'],\n",
      " datetime.date(2019, 5, 24): ['Knife Knights (feat. Ishmael Butler of Digable '\n",
      "                              'Planets)',\n",
      "                              'Lando Chill'],\n",
      " datetime.date(2019, 5, 25): ['The Delinquents'],\n",
      " datetime.date(2019, 5, 26): ['Bun B'],\n",
      " datetime.date(2019, 5, 29): ['Ana Tijoux', 'Locura'],\n",
      " datetime.date(2019, 6, 2): ['Young M.A'],\n",
      " datetime.date(2019, 6, 5): ['Tone Stith', 'Marco McKinnis', 'Audio Push'],\n",
      " datetime.date(2019, 6, 6): ['Alice Smith'],\n",
      " datetime.date(2019, 6, 7): ['Kari Faux'],\n",
      " datetime.date(2019, 6, 13): ['Snow Tha Product'],\n",
      " datetime.date(2019, 6, 14): ['Kranium', 'Jada Kingdom'],\n",
      " datetime.date(2019, 6, 15): ['SADE vs BADU - A Tribute Party to Bulletproof '\n",
      "                              'Soul'],\n",
      " datetime.date(2019, 6, 19): ['YBN Cordae'],\n",
      " datetime.date(2019, 6, 21): ['Branko (Live A/V Set)',\n",
      "                              'FELA KUTCHii',\n",
      "                              '¡Sazon Libre!',\n",
      "                              'and DJ Lady Z'],\n",
      " datetime.date(2019, 6, 24): ['Charly Bliss'],\n",
      " datetime.date(2019, 6, 26): ['Thundercat'],\n",
      " datetime.date(2019, 6, 28): ['Shlohmo'],\n",
      " datetime.date(2019, 6, 30): ['Jay Electronica'],\n",
      " datetime.date(2019, 7, 5): ['Mikal Cronin', 'CFM', 'Sarah Bethe Nelson'],\n",
      " datetime.date(2019, 7, 9): ['michael che x cipha | liberal but gangsta'],\n",
      " datetime.date(2019, 7, 10): ['michael che x cipha | liberal but gangsta'],\n",
      " datetime.date(2019, 7, 11): ['michael che x cipha | liberal but gangsta'],\n",
      " datetime.date(2019, 7, 17): ['Mystic Braves'],\n",
      " datetime.date(2019, 7, 30): ['Kinky', 'Barrio Manouche'],\n",
      " datetime.date(2019, 7, 31): ['Ibibio Sound Machine'],\n",
      " datetime.date(2019, 8, 13): ['Everything is Terrible!'],\n",
      " datetime.date(2019, 8, 16): ['The Ghost Next Door'],\n",
      " datetime.date(2019, 10, 11): ['Bleached']}\n"
     ]
    }
   ],
   "source": [
    "from datetime import date\n",
    "from dateutil import parser\n",
    "from pprint import pprint\n",
    "from collections import namedtuple\n",
    "    \n",
    "Event = namedtuple('Event', ['artists', 'status'])\n",
    "events = {}\n",
    "    \n",
    "# Parse events\n",
    "date_cells = list(soup.find_all(class_=\"has-event\"))\n",
    "for date_cell in date_cells:\n",
    "\n",
    "    # Extract date\n",
    "    date_text = date_cell.find_next(\"section\", {\"class\": \"dtstart\"}).find_next(\"span\")\n",
    "    date = parser.parse(date_text.attrs[\"title\"]).date()\n",
    "\n",
    "    # Extract events\n",
    "    event_cells = date_cell.find_all(\"section\", {\"class\": \"one-event\"})\n",
    "    for event_cell in event_cells:\n",
    "        artist_text = event_cell.find_next(\"h1\", {\"class\": \"headliners\"}).find_next(\"a\").text\n",
    "        artists = [art.strip() for art in artist_text.split(\",\")]\n",
    "        \n",
    "        events[date] = artists\n",
    "\n",
    "pprint(events)"
   ]
  },
  {
   "cell_type": "code",
   "execution_count": null,
   "metadata": {},
   "outputs": [],
   "source": [
    "date_cell.find_next()"
   ]
  },
  {
   "cell_type": "code",
   "execution_count": 56,
   "metadata": {},
   "outputs": [
    {
     "data": {
      "text/plain": [
       "[<section class=\"date dtstart\"><span class=\"value-title\" title=\"2019-10-11T00:00:00-07:00\"></span>Fri 11</section>,\n",
       " ' ',\n",
       " <section class=\"one-event last-event event-status-live alt eb-event-id-61060417352 eb-org-id-17588861165 eb-venue-id-25766024\">\n",
       " <a class=\"image-url\" href=\"/e/bleached-61060417352/\">\n",
       " <img alt=\"Bleached\" class=\"calendar-image\" height=\"540\" src=\"https://img-dev.evbuc.com/https%3A%2F%2Fcdn.evbuc.com%2Fimages%2F61379315%2F264219902540%2F1%2Foriginal.20190429-190506?auto=compress&amp;crop=top&amp;fit=crop&amp;h=540&amp;w=960&amp;s=fec4ec52e1f3f49a1e2cfb21d630b4a0\" title=\"Bleached\" width=\"960\"/>\n",
       " </a>\n",
       " <h1 class=\"event-name headliners\"><a class=\"event-url\" href=\"/e/bleached-61060417352/\">Bleached</a></h1>\n",
       " <span class=\"start\">9 PM</span>\n",
       " <section class=\"age-restriction all-ages\">All Ages</section>\n",
       " <noscript><a class=\"tickets\" rel=\"noopener noreferrer\" target=\"_blank\"></a></noscript><button class=\"ticket-link primary-link\" href=\"https://www.eventbrite.com/e/bleached-tickets-61060417352\" id=\"eventbrite-widget-modal-trigger-61060417352\" type=\"button\">Tickets</button><noscript></noscript></section>]"
      ]
     },
     "execution_count": 56,
     "metadata": {},
     "output_type": "execute_result"
    }
   ],
   "source": [
    "list(table.find_all(\"td\")[-1].children)"
   ]
  },
  {
   "cell_type": "code",
   "execution_count": 34,
   "metadata": {},
   "outputs": [
    {
     "data": {
      "text/plain": [
       "'<table><tr><td colspan=\"7\"><h3 class=\"month\">October</h3></td></tr><tr><td class=\"data Sunday\">\\xa0</td><td class=\"data Monday\">\\xa0</td><td class=\"data Tuesday vevent has-event\"><section class=\"date dtstart\"><span class=\"value-title\" title=\"2019-10-01T00:00:00-07:00\"></span>Tue 1</section></td><td class=\"data Wednesday vevent has-event\"><section class=\"date dtstart\"><span class=\"value-title\" title=\"2019-10-02T00:00:00-07:00\"></span>Wed 2</section></td><td class=\"data Thursday vevent has-event\"><section class=\"date dtstart\"><span class=\"value-title\" title=\"2019-10-03T00:00:00-07:00\"></span>Thu 3</section></td><td class=\"data Friday vevent has-event\"><section class=\"date dtstart\"><span class=\"value-title\" title=\"2019-10-04T00:00:00-07:00\"></span>Fri 4</section></td><td class=\"data Saturday vevent has-event\"><section class=\"date dtstart\"><span class=\"value-title\" title=\"2019-10-05T00:00:00-07:00\"></span>Sat 5</section></td></tr><tr><td class=\"data Sunday vevent has-event\"><section class=\"date dtstart\"><span class=\"value-title\" title=\"2019-10-06T00:00:00-07:00\"></span>Sun 6</section></td><td class=\"data Monday vevent has-event\"><section class=\"date dtstart\"><span class=\"value-title\" title=\"2019-10-07T00:00:00-07:00\"></span>Mon 7</section></td><td class=\"data Tuesday vevent has-event\"><section class=\"date dtstart\"><span class=\"value-title\" title=\"2019-10-08T00:00:00-07:00\"></span>Tue 8</section></td><td class=\"data Wednesday vevent has-event\"><section class=\"date dtstart\"><span class=\"value-title\" title=\"2019-10-09T00:00:00-07:00\"></span>Wed 9</section></td><td class=\"data Thursday vevent has-event\"><section class=\"date dtstart\"><span class=\"value-title\" title=\"2019-10-10T00:00:00-07:00\"></span>Thu 10</section></td><td class=\"data Friday vevent has-event\"><section class=\"date dtstart\"><span class=\"value-title\" title=\"2019-10-11T00:00:00-07:00\"></span>Fri 11</section> <section class=\"one-event last-event event-status-live alt eb-event-id-61060417352 eb-org-id-17588861165 eb-venue-id-25766024\">\\n<a class=\"image-url\" href=\"/e/bleached-61060417352/\">\\n<img alt=\"Bleached\" class=\"calendar-image\" height=\"540\" src=\"https://img-dev.evbuc.com/https%3A%2F%2Fcdn.evbuc.com%2Fimages%2F61379315%2F264219902540%2F1%2Foriginal.20190429-190506?auto=compress&amp;crop=top&amp;fit=crop&amp;h=540&amp;w=960&amp;s=fec4ec52e1f3f49a1e2cfb21d630b4a0\" title=\"Bleached\" width=\"960\"/>\\n</a>\\n<h1 class=\"event-name headliners\"><a class=\"event-url\" href=\"/e/bleached-61060417352/\">Bleached</a></h1>\\n<span class=\"start\">9 PM</span>\\n<section class=\"age-restriction all-ages\">All Ages</section>\\n<noscript><a class=\"tickets\" rel=\"noopener noreferrer\" target=\"_blank\"></a></noscript><button class=\"ticket-link primary-link\" href=\"https://www.eventbrite.com/e/bleached-tickets-61060417352\" id=\"eventbrite-widget-modal-trigger-61060417352\" type=\"button\">Tickets</button><noscript></noscript></section></td></tr></table>'"
      ]
     },
     "execution_count": 34,
     "metadata": {},
     "output_type": "execute_result"
    }
   ],
   "source": [
    "table"
   ]
  },
  {
   "cell_type": "code",
   "execution_count": null,
   "metadata": {},
   "outputs": [],
   "source": []
  }
 ],
 "metadata": {
  "kernelspec": {
   "display_name": "Python 3",
   "language": "python",
   "name": "python3"
  },
  "language_info": {
   "codemirror_mode": {
    "name": "ipython",
    "version": 3
   },
   "file_extension": ".py",
   "mimetype": "text/x-python",
   "name": "python",
   "nbconvert_exporter": "python",
   "pygments_lexer": "ipython3",
   "version": "3.6.5"
  }
 },
 "nbformat": 4,
 "nbformat_minor": 2
}
